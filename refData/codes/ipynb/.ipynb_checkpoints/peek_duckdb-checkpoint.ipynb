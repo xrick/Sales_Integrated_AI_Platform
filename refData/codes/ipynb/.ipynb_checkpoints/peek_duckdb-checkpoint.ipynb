{
 "cells": [
  {
   "cell_type": "code",
   "execution_count": null,
   "id": "8fb2cf17-7909-4c78-88f2-fb924cfadd7d",
   "metadata": {},
   "outputs": [],
   "source": []
  },
  {
   "cell_type": "code",
   "execution_count": 1,
   "id": "95148b4b-af36-48d0-967b-327fb7a64e3b",
   "metadata": {},
   "outputs": [],
   "source": [
    "import duckdb"
   ]
  },
  {
   "cell_type": "code",
   "execution_count": 3,
   "id": "98cdacaa-44d1-461b-820a-d3e77384be1d",
   "metadata": {},
   "outputs": [],
   "source": [
    "_dbName=\"../../../db/nb_spec_v2.db\""
   ]
  },
  {
   "cell_type": "code",
   "execution_count": 6,
   "id": "096fc515-d090-4612-a850-69594ea09726",
   "metadata": {},
   "outputs": [],
   "source": [
    "def peek_duckdb(dbName:str=None)->None:\n",
    "    # 連線至一個 DuckDB 資料庫 (memory 或檔案)\n",
    "    con = duckdb.connect(database=f'{dbName}')\n",
    "    \n",
    "    # 建立測試用資料表\n",
    "    # con.execute(\"\"\"\n",
    "    # CREATE TABLE users (\n",
    "    #     id INTEGER,\n",
    "    #     name VARCHAR,\n",
    "    #     age INTEGER\n",
    "    # )\n",
    "    # \"\"\")\n",
    "    # con.execute(\"\"\"\n",
    "    # INSERT INTO users VALUES\n",
    "    #     (1, 'Alice', 30),\n",
    "    #     (2, 'Bob', 25),\n",
    "    #     (3, 'Eve', 35)\n",
    "    # \"\"\")\n",
    "    \n",
    "    # 1. 顯示系統資訊 (show info)\n",
    "    info = con.execute(\"PRAGMA version;\").fetchall()\n",
    "    print(\"DuckDB 版本資訊：\", info)\n",
    "\n",
    "    # # 2.Show all tables\n",
    "    tables = con.execute(\"SHOW TABLES;\").fetchdf()\n",
    "    print(\"所有資料表名稱：\")\n",
    "    print(tables)\n",
    "    # # 2. 顯示資料表內容 (show table content)\n",
    "    # result = con.execute(\"SELECT * FROM users;\").fetchdf()\n",
    "    # print(result)"
   ]
  },
  {
   "cell_type": "code",
   "execution_count": 7,
   "id": "ad7bc2c9-db21-46cf-b635-dc5a93d8ac27",
   "metadata": {},
   "outputs": [
    {
     "name": "stdout",
     "output_type": "stream",
     "text": [
      "DuckDB 版本資訊： [('v1.3.0', '71c5c07cdd', 'Ossivalis')]\n",
      "所有資料表名稱：\n",
      "        name\n",
      "0  documents\n"
     ]
    }
   ],
   "source": [
    "peek_duckdb(_dbName)"
   ]
  },
  {
   "cell_type": "code",
   "execution_count": null,
   "id": "c991be37-7adf-4be4-98d2-b2169216d350",
   "metadata": {},
   "outputs": [],
   "source": []
  }
 ],
 "metadata": {
  "kernelspec": {
   "display_name": "Python 3 (ipykernel)",
   "language": "python",
   "name": "python3"
  },
  "language_info": {
   "codemirror_mode": {
    "name": "ipython",
    "version": 3
   },
   "file_extension": ".py",
   "mimetype": "text/x-python",
   "name": "python",
   "nbconvert_exporter": "python",
   "pygments_lexer": "ipython3",
   "version": "3.11.13"
  }
 },
 "nbformat": 4,
 "nbformat_minor": 5
}
