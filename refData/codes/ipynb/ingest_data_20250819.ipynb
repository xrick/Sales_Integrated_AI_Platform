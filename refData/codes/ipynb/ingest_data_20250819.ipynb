{
 "cells": [
  {
   "cell_type": "code",
   "execution_count": 1,
   "id": "4b797114-baac-4ece-b7a1-12e7fc693e5c",
   "metadata": {},
   "outputs": [],
   "source": [
    "import pandas as pd\n",
    "import os\n",
    "import duckdb\n",
    "import pandas as pd\n",
    "from pymilvus import connections, utility, Collection, CollectionSchema, FieldSchema, DataType\n",
    "from langchain_community.embeddings import HuggingFaceEmbeddings\n",
    "from tqdm import tqdm"
   ]
  },
  {
   "cell_type": "markdown",
   "id": "0879f341-57a3-433e-8965-14ba5aae4620",
   "metadata": {},
   "source": [
    "### 注意，請不要使用csv檔，會出現資料有大量的NoN"
   ]
  },
  {
   "cell_type": "code",
   "execution_count": 2,
   "id": "23dcb057-fdc3-42f6-bd5b-95d25ee0ecb5",
   "metadata": {},
   "outputs": [
    {
     "name": "stdout",
     "output_type": "stream",
     "text": [
      "從 XLSX 檔案中讀取到的標題列如下：\n",
      "['modeltype', 'version', 'modelname', 'mainboard', 'devtime', 'pm', 'structconfig', 'lcd', 'touchpanel', 'iointerface', 'ledind', 'powerbutton', 'keyboard', 'webcamera', 'touchpad', 'fingerprint', 'audio', 'battery', 'cpu', 'gpu', 'memory', 'lcdconnector', 'storage', 'wifislot', 'thermal', 'tpm', 'rtc', 'wireless', 'lan', 'bluetooth', 'softwareconfig', 'ai', 'accessory', 'certfications', 'otherfeatures']\n",
      "一列共有：35欄\n"
     ]
    }
   ],
   "source": [
    "# 將上傳的檔案讀取為 pandas DataFrame\n",
    "file_path = 'data/nb_data_clean_cayman.xlsx'\n",
    "df = pd.read_excel(file_path)\n",
    "\n",
    "# 獲取標題列 (欄位名稱)\n",
    "header_columns = df.columns.tolist()\n",
    "print(\"從 XLSX 檔案中讀取到的標題列如下：\")\n",
    "print(header_columns)\n",
    "print(f\"一列共有：{len(header_columns)}欄\")"
   ]
  },
  {
   "cell_type": "code",
   "execution_count": 3,
   "id": "cc82c786-ea26-45e4-9882-eb501dfbaee8",
   "metadata": {},
   "outputs": [],
   "source": [
    "table_titles = [\n",
    "                    'modeltype', 'version', 'modelname', 'mainboard', 'devtime',\n",
    "                    'pm', 'structconfig', 'lcd', 'touchpanel', 'iointerface', \n",
    "                    'ledind', 'powerbutton', 'keyboard', 'webcamera', 'touchpad', \n",
    "                    'fingerprint', 'audio', 'battery', 'cpu', 'gpu', 'memory', \n",
    "                    'lcdconnector', 'storage', 'wifislot', 'thermal', 'tpm', 'rtc', \n",
    "                    'wireless', 'lan', 'bluetooth', 'softwareconfig', 'ai', 'accessory', \n",
    "                    'certfications', 'otherfeatures'\n",
    "               ]\n",
    "Fields_Types = DataType.VARCHAR\n",
    "ColFieldsForVector = [\n",
    "    'modeltype',\n",
    "    'modelname',\n",
    "    'audio', \n",
    "    'battery', \n",
    "    'cpu', \n",
    "    'gpu', \n",
    "    'memory',\n",
    "    'storage', \n",
    "    'wifislot', \n",
    "    'thermal',\n",
    "    'wireless', \n",
    "    'lan', \n",
    "    'bluetooth', \n",
    "    'ai',\n",
    "    'certfications'\n",
    "]"
   ]
  },
  {
   "cell_type": "code",
   "execution_count": 4,
   "id": "14eb2c32-375b-4131-a34c-4ed5c001d385",
   "metadata": {},
   "outputs": [],
   "source": [
    "# --- 設定 ---\n",
    "MILVUS_HOST = \"localhost\"\n",
    "MILVUS_PORT = \"19530\"\n",
    "DUCKDB_FILE = \"sales_rag_app/db/sales_specs.db\"\n",
    "COLLECTION_NAME = \"sales_notebook_specs\" # 使用新的 Collection 名稱以避免混淆\n",
    "EMBEDDING_MODEL = \"all-MiniLM-L6-v2\" # SentenceTransformer 模型\n",
    "EMBEDDING_DIM = 384 # all-MiniLM-L6-v2 的維度\n",
    "# CSV_FILE_PATH = \"data/nb_data_clean_cayman.csv\" # 您的 CSV 檔案路徑\n",
    "XLSX_FILE_PATH = \"data/nb_data_clean_cayman.xlsx\" # 您的 CSV 檔案路徑"
   ]
  },
  {
   "cell_type": "code",
   "execution_count": 5,
   "id": "95e2d408-712c-459a-b073-0c1e7213a252",
   "metadata": {},
   "outputs": [],
   "source": [
    "# --- 主執行流程 ---\n",
    "def main():\n",
    "    # --- 檢查檔案是否存在 ---\n",
    "    if not os.path.exists(XLSX_FILE_PATH):\n",
    "        print(f\"錯誤: 找不到指定的檔案 '{XLSX_FILE_PATH}'。請確認檔案路徑是否正確。\")\n",
    "        return\n",
    "\n",
    "    print(f\"正在讀取資料來源: {XLSX_FILE_PATH}\")\n",
    "    df = pd.read_excel(XLSX_FILE_PATH)\n",
    "    # 確保所有欄位都是字串類型，避免後續處理出錯\n",
    "    df = df.astype(str)\n",
    "    header_columns = df.columns.tolist()\n",
    "    print(f\"成功讀取 {len(df)} 筆資料。\")\n",
    "\n",
    "    # --- 1. 處理結構化資料 (DuckDB) ---\n",
    "    print(\"\\n--- 正在處理結構化規格資料並存入 DuckDB ---\")\n",
    "    if os.path.exists(DUCKDB_FILE):\n",
    "        print(f\"找到舊的 DuckDB 檔案 '{DUCKDB_FILE}'，正在刪除...\")\n",
    "        os.remove(DUCKDB_FILE)\n",
    "\n",
    "    con = duckdb.connect(database=DUCKDB_FILE, read_only=False)\n",
    "    # 直接從 DataFrame 建立資料表，更簡單高效\n",
    "    con.execute(\"CREATE TABLE specs AS SELECT * FROM df\")\n",
    "    print(f\"成功將 {len(df)} 筆規格資料存入 DuckDB 的 'specs' 資料表中。\")\n",
    "    con.close()\n",
    "\n",
    "    # --- 2. 處理並存入非結構化資料 (Milvus) ---\n",
    "    print(\"\\n--- 正在處理文本資料並存入 Milvus ---\")\n",
    "    connections.connect(\"default\", host=MILVUS_HOST, port=MILVUS_PORT)\n",
    "\n",
    "    if utility.has_collection(COLLECTION_NAME):\n",
    "        print(f\"找到舊的 Milvus Collection '{COLLECTION_NAME}'，正在刪除...\")\n",
    "        utility.drop_collection(COLLECTION_NAME)\n",
    "\n",
    "    # 動態建立 Collection Schema\n",
    "    print(\"正在根據 CSV 標題列建立新的 Milvus Schema...\")\n",
    "    # a. 主鍵 (Primary Key)\n",
    "    fields = [\n",
    "        FieldSchema(name=\"pk\", dtype=DataType.INT64, is_primary=True, auto_id=True)\n",
    "    ]\n",
    "    # b. 根據 XLSX 標題列建立其他資料欄位\n",
    "    for col_name in header_columns:\n",
    "        # Milvus 欄位名稱有一些限制，例如不能有 '-'，這裡做簡單替換\n",
    "        safe_col_name = col_name.replace('-', '_').replace('(', '').replace(')', '')\n",
    "        fields.append(FieldSchema(name=safe_col_name, dtype=DataType.VARCHAR, max_length=2500))\n",
    "    \n",
    "    # c. 嵌入向量欄位\n",
    "    fields.append(FieldSchema(name=\"embedding\", dtype=DataType.FLOAT_VECTOR, dim=EMBEDDING_DIM))\n",
    "    \n",
    "    schema = CollectionSchema(fields, \"銷售筆電規格知識庫 (從XLSX導入)\")\n",
    "    collection = Collection(COLLECTION_NAME, schema)\n",
    "    print(f\"成功建立 Schema，Collection: '{COLLECTION_NAME}'\")\n",
    "\n",
    "    # 準備要插入的資料\n",
    "    # 將每一列的所有欄位合併成一個長字串，用於生成嵌入向量\n",
    "    print(\"正在準備要嵌入的文本資料...\")\n",
    "    # texts_to_embed = df.apply(lambda row: ' '.join([f\"{col}: {val}\" for col, val in row.items()]), axis=1).tolist()\n",
    "    \n",
    "    filtered_df = df[ColFieldsForVector]\n",
    "    # 只組合這些欄位的資料\n",
    "    texts_to_embed = filtered_df.apply(\n",
    "        lambda row: ' '.join([f\"{col}: {row[col]}\" for col in ColFieldsForVector]),\n",
    "        axis=1\n",
    "    ).tolist()\n",
    "    # print(texts_to_embed)\n",
    "    # 產生嵌入向量\n",
    "    print(f\"正在使用 '{EMBEDDING_MODEL}' 模型產生嵌入向量 (共 {len(texts_to_embed)} 筆)...\")\n",
    "    embeddings = HuggingFaceEmbeddings(model_name=EMBEDDING_MODEL)\n",
    "    vectors = []\n",
    "    # 使用 tqdm 顯示進度條\n",
    "    for text in tqdm(texts_to_embed, desc=\"Embedding Progress\"):\n",
    "        vectors.append(embeddings.embed_query(text))\n",
    "\n",
    "    # 準備插入 Milvus 的實體 (Entities)\n",
    "    entities = []\n",
    "    # 根據 Schema 順序（除了 pk 和 embedding）準備資料\n",
    "    for col_name in header_columns:\n",
    "        entities.append(df[col_name].tolist())\n",
    "    entities.append(vectors) # 最後加入 embedding 向量\n",
    "\n",
    "    # 插入資料\n",
    "    print(\"正在將資料插入 Milvus...\")\n",
    "    collection.insert(entities)\n",
    "    collection.flush() # 確保資料寫入\n",
    "    print(f\"成功將 {collection.num_entities} 筆資料導入 Milvus。\")\n",
    "\n",
    "    # 創建索引以加速搜尋\n",
    "    print(\"正在為向量創建索引 (IVF_FLAT)...\")\n",
    "    index_params = {\n",
    "        \"metric_type\": \"L2\",\n",
    "        \"index_type\": \"IVF_FLAT\",\n",
    "        \"params\": {\"nlist\": 128}\n",
    "    }\n",
    "    collection.create_index(\"embedding\", index_params)\n",
    "    collection.load()\n",
    "    print(\"索引創建完成，Collection 已載入記憶體。\")\n",
    "\n",
    "    print(\"\\n資料導入完成！\")\n",
    "\n",
    "# if __name__ == \"__main__\":\n",
    "#     main()"
   ]
  },
  {
   "cell_type": "code",
   "execution_count": 6,
   "id": "981a9d7f-2e51-4dfd-af4e-f3668ca61792",
   "metadata": {},
   "outputs": [
    {
     "name": "stdout",
     "output_type": "stream",
     "text": [
      "正在讀取資料來源: data/nb_data_clean_cayman.xlsx\n",
      "成功讀取 15 筆資料。\n",
      "\n",
      "--- 正在處理結構化規格資料並存入 DuckDB ---\n",
      "找到舊的 DuckDB 檔案 'sales_rag_app/db/sales_specs.db'，正在刪除...\n",
      "成功將 15 筆規格資料存入 DuckDB 的 'specs' 資料表中。\n",
      "\n",
      "--- 正在處理文本資料並存入 Milvus ---\n",
      "找到舊的 Milvus Collection 'sales_notebook_specs'，正在刪除...\n",
      "正在根據 CSV 標題列建立新的 Milvus Schema...\n",
      "成功建立 Schema，Collection: 'sales_notebook_specs'\n",
      "正在準備要嵌入的文本資料...\n",
      "正在使用 'all-MiniLM-L6-v2' 模型產生嵌入向量 (共 15 筆)...\n"
     ]
    },
    {
     "name": "stderr",
     "output_type": "stream",
     "text": [
      "/tmp/ipykernel_29290/1146746367.py:68: LangChainDeprecationWarning: The class `HuggingFaceEmbeddings` was deprecated in LangChain 0.2.2 and will be removed in 1.0. An updated version of the class exists in the :class:`~langchain-huggingface package and should be used instead. To use it run `pip install -U :class:`~langchain-huggingface` and import as `from :class:`~langchain_huggingface import HuggingFaceEmbeddings``.\n",
      "  embeddings = HuggingFaceEmbeddings(model_name=EMBEDDING_MODEL)\n",
      "/home/mapleleaf/.conda/envs/salseragenv/lib/python3.11/site-packages/tqdm/auto.py:21: TqdmWarning: IProgress not found. Please update jupyter and ipywidgets. See https://ipywidgets.readthedocs.io/en/stable/user_install.html\n",
      "  from .autonotebook import tqdm as notebook_tqdm\n",
      "Embedding Progress: 100%|████████████████████████████████████████████████████████████████████████████████████████████████████████████████████████████████████████████████████| 15/15 [00:00<00:00, 36.25it/s]\n"
     ]
    },
    {
     "name": "stdout",
     "output_type": "stream",
     "text": [
      "正在將資料插入 Milvus...\n",
      "成功將 15 筆資料導入 Milvus。\n",
      "正在為向量創建索引 (IVF_FLAT)...\n",
      "索引創建完成，Collection 已載入記憶體。\n",
      "\n",
      "資料導入完成！\n"
     ]
    }
   ],
   "source": [
    "main()"
   ]
  },
  {
   "cell_type": "code",
   "execution_count": null,
   "id": "0b4e0114-e30b-44cc-a16e-6de44a1c5e94",
   "metadata": {},
   "outputs": [],
   "source": []
  }
 ],
 "metadata": {
  "kernelspec": {
   "display_name": "Python 3 (ipykernel)",
   "language": "python",
   "name": "python3"
  },
  "language_info": {
   "codemirror_mode": {
    "name": "ipython",
    "version": 3
   },
   "file_extension": ".py",
   "mimetype": "text/x-python",
   "name": "python",
   "nbconvert_exporter": "python",
   "pygments_lexer": "ipython3",
   "version": "3.11.13"
  }
 },
 "nbformat": 4,
 "nbformat_minor": 5
}
